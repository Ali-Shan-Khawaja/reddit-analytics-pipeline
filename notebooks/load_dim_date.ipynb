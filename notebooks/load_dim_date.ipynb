{
 "cells": [
  {
   "cell_type": "code",
   "execution_count": 1,
   "id": "2522bca4",
   "metadata": {},
   "outputs": [],
   "source": [
    "import os\n",
    "from pyspark.sql import SparkSession\n",
    "from dotenv import load_dotenv"
   ]
  },
  {
   "cell_type": "code",
   "execution_count": 2,
   "id": "7da3ce92",
   "metadata": {},
   "outputs": [
    {
     "data": {
      "text/plain": [
       "True"
      ]
     },
     "execution_count": 2,
     "metadata": {},
     "output_type": "execute_result"
    }
   ],
   "source": [
    "\n",
    "# Load environment variables\n",
    "load_dotenv()"
   ]
  },
  {
   "cell_type": "code",
   "execution_count": 3,
   "id": "f69b932c",
   "metadata": {},
   "outputs": [],
   "source": [
    "# Set up Snowflake options\n",
    "sf_options = {\n",
    "    \"sfURL\": os.getenv(\"SNOWFLAKE_ACCOUNT\") + \".snowflakecomputing.com\",\n",
    "    \"sfUser\": os.getenv(\"SNOWFLAKE_USER\"),\n",
    "    \"sfPassword\": os.getenv(\"SNOWFLAKE_PASSWORD\"),\n",
    "    \"sfDatabase\": os.getenv(\"SNOWFLAKE_DATABASE\"),\n",
    "    \"sfSchema\": os.getenv(\"SNOWFLAKE_SCHEMA\"),\n",
    "    \"sfWarehouse\": os.getenv(\"SNOWFLAKE_WAREHOUSE\"),\n",
    "    \"sfRole\": \"SYSADMIN\"  # optional if you have role management\n",
    "}"
   ]
  },
  {
   "cell_type": "code",
   "execution_count": 4,
   "id": "e369f112",
   "metadata": {},
   "outputs": [],
   "source": [
    "# Spark session\n",
    "spark = SparkSession.builder \\\n",
    "    .appName(\"LoadDimDateToSnowflake\") \\\n",
    "    .config(\"spark.jars.packages\", \"net.snowflake:snowflake-jdbc:3.13.24,net.snowflake:spark-snowflake_2.12:2.10.0-spark_3.2\") \\\n",
    "    .getOrCreate()\n"
   ]
  },
  {
   "cell_type": "code",
   "execution_count": 5,
   "id": "31805de9",
   "metadata": {},
   "outputs": [],
   "source": [
    "# Read Parquet\n",
    "dim_date_df = spark.read.parquet(\"D:/Portfolio/reddit-analytics-pipeline/data/DW_cache/dim_date\")"
   ]
  },
  {
   "cell_type": "code",
   "execution_count": 6,
   "id": "62ad64ea",
   "metadata": {},
   "outputs": [
    {
     "name": "stdout",
     "output_type": "stream",
     "text": [
      "+-------------------+----------+----+-----+----+----+------+------+-----------+------------+\n",
      "|   created_datetime|      date|year|month| day|hour|minute|second|day_of_week|week_of_year|\n",
      "+-------------------+----------+----+-----+----+----+------+------+-----------+------------+\n",
      "|               null|      null|null| null|null|null|  null|  null|       null|        null|\n",
      "|1969-12-31 19:00:03|1969-12-31|1969|   12|  31|  19|     0|     3|        Wed|           1|\n",
      "|2015-05-01 00:00:00|2015-05-01|2015|    5|   1|   0|     0|     0|        Fri|          18|\n",
      "|2015-05-01 00:00:01|2015-05-01|2015|    5|   1|   0|     0|     1|        Fri|          18|\n",
      "|2015-05-01 00:00:02|2015-05-01|2015|    5|   1|   0|     0|     2|        Fri|          18|\n",
      "+-------------------+----------+----+-----+----+----+------+------+-----------+------------+\n",
      "only showing top 5 rows\n",
      "\n",
      "root\n",
      " |-- created_datetime: timestamp (nullable = true)\n",
      " |-- date: date (nullable = true)\n",
      " |-- year: integer (nullable = true)\n",
      " |-- month: integer (nullable = true)\n",
      " |-- day: integer (nullable = true)\n",
      " |-- hour: integer (nullable = true)\n",
      " |-- minute: integer (nullable = true)\n",
      " |-- second: integer (nullable = true)\n",
      " |-- day_of_week: string (nullable = true)\n",
      " |-- week_of_year: integer (nullable = true)\n",
      "\n"
     ]
    }
   ],
   "source": [
    "dim_date_df.show(5)\n",
    "dim_date_df.printSchema()"
   ]
  },
  {
   "cell_type": "code",
   "execution_count": 7,
   "id": "988536ca",
   "metadata": {},
   "outputs": [],
   "source": [
    "dim_date_df.write \\\n",
    "    .format(\"snowflake\") \\\n",
    "    .options(**sf_options) \\\n",
    "    .option(\"dbtable\", \"DIM_DATE\") \\\n",
    "    .mode(\"overwrite\") \\\n",
    "    .save()"
   ]
  },
  {
   "cell_type": "code",
   "execution_count": 8,
   "id": "2bb6624f",
   "metadata": {},
   "outputs": [],
   "source": [
    "spark.stop()"
   ]
  }
 ],
 "metadata": {
  "kernelspec": {
   "display_name": "Python 3 (ipykernel)",
   "language": "python",
   "name": "python3"
  },
  "language_info": {
   "codemirror_mode": {
    "name": "ipython",
    "version": 3
   },
   "file_extension": ".py",
   "mimetype": "text/x-python",
   "name": "python",
   "nbconvert_exporter": "python",
   "pygments_lexer": "ipython3",
   "version": "3.10.2"
  }
 },
 "nbformat": 4,
 "nbformat_minor": 5
}

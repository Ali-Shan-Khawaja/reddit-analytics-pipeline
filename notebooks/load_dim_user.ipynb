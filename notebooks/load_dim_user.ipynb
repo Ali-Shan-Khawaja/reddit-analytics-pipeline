{
 "cells": [
  {
   "cell_type": "code",
   "execution_count": 1,
   "id": "b09dd5ed",
   "metadata": {},
   "outputs": [],
   "source": [
    "import os\n",
    "from pyspark.sql import SparkSession\n",
    "from dotenv import load_dotenv\n"
   ]
  },
  {
   "cell_type": "code",
   "execution_count": 2,
   "id": "aa660655",
   "metadata": {},
   "outputs": [
    {
     "data": {
      "text/plain": [
       "True"
      ]
     },
     "execution_count": 2,
     "metadata": {},
     "output_type": "execute_result"
    }
   ],
   "source": [
    "\n",
    "# Load environment variables\n",
    "load_dotenv()"
   ]
  },
  {
   "cell_type": "code",
   "execution_count": 3,
   "id": "d0481d57",
   "metadata": {},
   "outputs": [],
   "source": [
    "# Set up Snowflake options\n",
    "sf_options = {\n",
    "    \"sfURL\": os.getenv(\"SNOWFLAKE_ACCOUNT\") + \".snowflakecomputing.com\",\n",
    "    \"sfUser\": os.getenv(\"SNOWFLAKE_USER\"),\n",
    "    \"sfPassword\": os.getenv(\"SNOWFLAKE_PASSWORD\"),\n",
    "    \"sfDatabase\": os.getenv(\"SNOWFLAKE_DATABASE\"),\n",
    "    \"sfSchema\": os.getenv(\"SNOWFLAKE_SCHEMA\"),\n",
    "    \"sfWarehouse\": os.getenv(\"SNOWFLAKE_WAREHOUSE\"),\n",
    "    \"sfRole\": \"SYSADMIN\"  # optional if you have role management\n",
    "}"
   ]
  },
  {
   "cell_type": "code",
   "execution_count": 4,
   "id": "6d3af712",
   "metadata": {},
   "outputs": [],
   "source": [
    "# Spark session\n",
    "spark = SparkSession.builder \\\n",
    "    .appName(\"LoadDimUserToSnowflake\") \\\n",
    "    .config(\"spark.jars.packages\", \"net.snowflake:snowflake-jdbc:3.13.24,net.snowflake:spark-snowflake_2.12:2.10.0-spark_3.2\") \\\n",
    "    .getOrCreate()\n"
   ]
  },
  {
   "cell_type": "code",
   "execution_count": 5,
   "id": "66650725",
   "metadata": {},
   "outputs": [],
   "source": [
    "spark.catalog.clearCache()\n",
    "\n",
    "# Read Parquet\n",
    "dim_user_df = spark.read.parquet(\"D:/Portfolio/reddit-analytics-pipeline/data/DW_cache/dim_user\")\n"
   ]
  },
  {
   "cell_type": "code",
   "execution_count": 6,
   "id": "d3a35c9f",
   "metadata": {},
   "outputs": [
    {
     "name": "stdout",
     "output_type": "stream",
     "text": [
      "+--------------------+-------+\n",
      "|              author|user_id|\n",
      "+--------------------+-------+\n",
      "|  although entire...|      1|\n",
      "|      \"\"What next?\"\"|      2|\n",
      "| 'This contemplat...|      3|\n",
      "| **\"\"I will not s...|      4|\n",
      "|           *eyebite*|      5|\n",
      "+--------------------+-------+\n",
      "only showing top 5 rows\n",
      "\n",
      "root\n",
      " |-- author: string (nullable = true)\n",
      " |-- user_id: integer (nullable = true)\n",
      "\n"
     ]
    }
   ],
   "source": [
    "\n",
    "dim_user_df.show(5)\n",
    "dim_user_df.printSchema()"
   ]
  },
  {
   "cell_type": "code",
   "execution_count": 7,
   "id": "99f07769",
   "metadata": {},
   "outputs": [
    {
     "name": "stdout",
     "output_type": "stream",
     "text": [
      "+-------+-----+\n",
      "|user_id|count|\n",
      "+-------+-----+\n",
      "+-------+-----+\n",
      "\n"
     ]
    }
   ],
   "source": [
    "from pyspark.sql.functions import count\n",
    "\n",
    "# Group by subreddit_id and count\n",
    "duplicates = dim_user_df.groupBy(\"user_id\") \\\n",
    "    .agg(count(\"*\").alias(\"count\")) \\\n",
    "    .filter(\"count > 1\")\n",
    "\n",
    "# Show duplicated subreddit_ids\n",
    "duplicates.show(truncate=False)"
   ]
  },
  {
   "cell_type": "code",
   "execution_count": 8,
   "id": "56d6dcd1",
   "metadata": {},
   "outputs": [],
   "source": [
    "# Write to Snowflake\n",
    "dim_user_df.write \\\n",
    "    .format(\"snowflake\") \\\n",
    "    .options(**sf_options) \\\n",
    "    .option(\"dbtable\", \"DIM_USER\") \\\n",
    "    .option(\"internal_staging_file_format\", \"parquet\") \\\n",
    "    .mode(\"append\") \\\n",
    "    .save()\n"
   ]
  },
  {
   "cell_type": "code",
   "execution_count": 9,
   "id": "2a667c10",
   "metadata": {},
   "outputs": [],
   "source": [
    "spark.stop()"
   ]
  }
 ],
 "metadata": {
  "kernelspec": {
   "display_name": "Python 3 (ipykernel)",
   "language": "python",
   "name": "python3"
  },
  "language_info": {
   "codemirror_mode": {
    "name": "ipython",
    "version": 3
   },
   "file_extension": ".py",
   "mimetype": "text/x-python",
   "name": "python",
   "nbconvert_exporter": "python",
   "pygments_lexer": "ipython3",
   "version": "3.10.2"
  }
 },
 "nbformat": 4,
 "nbformat_minor": 5
}

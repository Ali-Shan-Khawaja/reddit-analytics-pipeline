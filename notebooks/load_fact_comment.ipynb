{
 "cells": [
  {
   "cell_type": "code",
   "execution_count": 1,
   "id": "c6a40217",
   "metadata": {},
   "outputs": [],
   "source": [
    "import os\n",
    "from pyspark.sql import SparkSession\n",
    "from dotenv import load_dotenv\n",
    "from pyspark.sql.functions import col"
   ]
  },
  {
   "cell_type": "code",
   "execution_count": 2,
   "id": "2beb16c8",
   "metadata": {},
   "outputs": [
    {
     "data": {
      "text/plain": [
       "True"
      ]
     },
     "execution_count": 2,
     "metadata": {},
     "output_type": "execute_result"
    }
   ],
   "source": [
    "# Load environment variables\n",
    "load_dotenv()"
   ]
  },
  {
   "cell_type": "code",
   "execution_count": 3,
   "id": "339b1c41",
   "metadata": {},
   "outputs": [],
   "source": [
    "# Set up Snowflake options\n",
    "sf_options = {\n",
    "    \"sfURL\": os.getenv(\"SNOWFLAKE_ACCOUNT\") + \".snowflakecomputing.com\",\n",
    "    \"sfUser\": os.getenv(\"SNOWFLAKE_USER\"),\n",
    "    \"sfPassword\": os.getenv(\"SNOWFLAKE_PASSWORD\"),\n",
    "    \"sfDatabase\": os.getenv(\"SNOWFLAKE_DATABASE\"),\n",
    "    \"sfSchema\": os.getenv(\"SNOWFLAKE_SCHEMA\"),\n",
    "    \"sfWarehouse\": os.getenv(\"SNOWFLAKE_WAREHOUSE\"),\n",
    "    \"sfRole\": \"ACCOUNTADMIN\"  # optional if you have role management\n",
    "}"
   ]
  },
  {
   "cell_type": "code",
   "execution_count": 4,
   "id": "c3dc6510",
   "metadata": {},
   "outputs": [],
   "source": [
    "# Spark session\n",
    "spark = SparkSession.builder \\\n",
    "    .appName(\"LoadFactCommentToSnowflake\") \\\n",
    "    .config(\"spark.jars.packages\", \"net.snowflake:snowflake-jdbc:3.13.24,net.snowflake:spark-snowflake_2.12:2.10.0-spark_3.2\") \\\n",
    "    .getOrCreate()"
   ]
  },
  {
   "cell_type": "code",
   "execution_count": 5,
   "id": "a9599a55",
   "metadata": {},
   "outputs": [],
   "source": [
    "# Read Parquet\n",
    "fact_comment_df = spark.read.parquet(\"D:/Portfolio/reddit-analytics-pipeline/data/DW_cache/fact_comment\")"
   ]
  },
  {
   "cell_type": "code",
   "execution_count": 14,
   "id": "6d076b38",
   "metadata": {},
   "outputs": [
    {
     "name": "stdout",
     "output_type": "stream",
     "text": [
      "+--------------------+-------+-------------+-------------------+--------------------+--------+----------------+----------+--------------------+--------------------+\n",
      "|          comment_id|user_id|subreddit_key|   created_datetime|                body|   score|controversiality|    gilded|                 ups|               downs|\n",
      "+--------------------+-------+-------------+-------------------+--------------------+--------+----------------+----------+--------------------+--------------------+\n",
      "|          Blood Bath| 155033|           15|               null|                null|    null|            null|      null|       Borrowed Time|                   0|\n",
      "| and I believe th...| 155031|          152|               null|                null|    null|            null|      null| so it was a diff...|          1430453592|\n",
      "| and filled the w...|     23|          174|               null| where is the goo...| and see|              no| and death| even if the Morm...| and will yet bri...|\n",
      "|             cri5qut|  75696|          280|2015-05-23 00:05:07|I think Appelbaum...|       3|               0|         0|                   3|                   0|\n",
      "|             cquowts| 120434|          282|2015-05-01 00:01:34|True the majority...|       1|               0|         0|                   1|                   0|\n",
      "+--------------------+-------+-------------+-------------------+--------------------+--------+----------------+----------+--------------------+--------------------+\n",
      "only showing top 5 rows\n",
      "\n",
      "root\n",
      " |-- comment_id: string (nullable = true)\n",
      " |-- user_id: integer (nullable = true)\n",
      " |-- subreddit_key: integer (nullable = true)\n",
      " |-- created_datetime: timestamp (nullable = true)\n",
      " |-- body: string (nullable = true)\n",
      " |-- score: string (nullable = true)\n",
      " |-- controversiality: string (nullable = true)\n",
      " |-- gilded: string (nullable = true)\n",
      " |-- ups: string (nullable = true)\n",
      " |-- downs: string (nullable = true)\n",
      "\n",
      "309311\n"
     ]
    }
   ],
   "source": [
    "fact_comment_df.show(5)\n",
    "fact_comment_df.printSchema()\n",
    "print(fact_comment_df.count())"
   ]
  },
  {
   "cell_type": "code",
   "execution_count": 13,
   "id": "4eab1906",
   "metadata": {},
   "outputs": [
    {
     "name": "stdout",
     "output_type": "stream",
     "text": [
      "+----------+----------------+-------+-----+\n",
      "|comment_id|created_datetime|user_id|count|\n",
      "+----------+----------------+-------+-----+\n",
      "+----------+----------------+-------+-----+\n",
      "\n"
     ]
    }
   ],
   "source": [
    "from pyspark.sql.functions import count\n",
    "\n",
    "# Group by subreddit_id and count\n",
    "duplicates = fact_comment_df.groupBy(\"comment_id\",\"created_datetime\",\"user_id\") \\\n",
    "    .agg(count(\"*\").alias(\"count\")) \\\n",
    "    .filter(\"count > 1\")\n",
    "\n",
    "# Show duplicated subreddit_ids\n",
    "duplicates.show(truncate=False)"
   ]
  },
  {
   "cell_type": "code",
   "execution_count": 12,
   "id": "ab8cbc1a",
   "metadata": {},
   "outputs": [],
   "source": [
    "if duplicates.count()>0:\n",
    "    fact_comment_df = fact_comment_df.dropDuplicates([\"subreddit_key\", \"created_datetime\", \"user_id\"])"
   ]
  },
  {
   "cell_type": "code",
   "execution_count": 15,
   "id": "41304829",
   "metadata": {},
   "outputs": [
    {
     "name": "stdout",
     "output_type": "stream",
     "text": [
      "[Row(created_date=datetime.date(2015, 5, 19)), Row(created_date=datetime.date(2015, 5, 10)), Row(created_date=datetime.date(2015, 5, 16)), Row(created_date=datetime.date(2015, 5, 25)), Row(created_date=datetime.date(2015, 5, 6)), Row(created_date=datetime.date(2015, 5, 3)), Row(created_date=datetime.date(2015, 5, 18)), Row(created_date=datetime.date(2015, 5, 23)), Row(created_date=datetime.date(2015, 5, 21)), Row(created_date=datetime.date(2015, 5, 9)), Row(created_date=datetime.date(2015, 5, 29)), Row(created_date=datetime.date(2015, 5, 11)), Row(created_date=datetime.date(2015, 5, 5)), Row(created_date=datetime.date(2015, 5, 14)), Row(created_date=datetime.date(2015, 5, 22)), Row(created_date=datetime.date(2015, 5, 13)), Row(created_date=datetime.date(2015, 5, 12)), Row(created_date=datetime.date(2015, 5, 2)), Row(created_date=datetime.date(2015, 5, 24)), Row(created_date=datetime.date(2015, 5, 28)), Row(created_date=datetime.date(2015, 5, 31)), Row(created_date=datetime.date(2015, 5, 1)), Row(created_date=datetime.date(2015, 5, 26)), Row(created_date=datetime.date(2015, 5, 15)), Row(created_date=datetime.date(2015, 5, 4)), Row(created_date=datetime.date(2015, 5, 20)), Row(created_date=datetime.date(2015, 5, 27)), Row(created_date=datetime.date(2015, 5, 8)), Row(created_date=datetime.date(2015, 5, 30)), Row(created_date=datetime.date(2015, 5, 7)), Row(created_date=datetime.date(2015, 5, 17)), Row(created_date=None)]\n"
     ]
    }
   ],
   "source": [
    "from pyspark.sql.functions import to_date\n",
    "\n",
    "fact_comment_df = fact_comment_df.withColumn('created_date', to_date('created_datetime'))\n",
    "\n",
    "unique_dates = fact_comment_df.select('created_date').distinct().collect()\n",
    "print(unique_dates)"
   ]
  },
  {
   "cell_type": "code",
   "execution_count": 16,
   "id": "6ee3d042",
   "metadata": {},
   "outputs": [],
   "source": [
    "fact_comment_df.write \\\n",
    "    .format(\"snowflake\") \\\n",
    "    .options(**sf_options) \\\n",
    "    .option(\"dbtable\", \"FACT_COMMENTS\") \\\n",
    "    .mode(\"overwrite\") \\\n",
    "    .save()"
   ]
  },
  {
   "cell_type": "code",
   "execution_count": 17,
   "id": "75d458ce",
   "metadata": {},
   "outputs": [],
   "source": [
    "spark.stop()"
   ]
  }
 ],
 "metadata": {
  "kernelspec": {
   "display_name": "Python 3 (ipykernel)",
   "language": "python",
   "name": "python3"
  },
  "language_info": {
   "codemirror_mode": {
    "name": "ipython",
    "version": 3
   },
   "file_extension": ".py",
   "mimetype": "text/x-python",
   "name": "python",
   "nbconvert_exporter": "python",
   "pygments_lexer": "ipython3",
   "version": "3.10.2"
  }
 },
 "nbformat": 4,
 "nbformat_minor": 5
}
